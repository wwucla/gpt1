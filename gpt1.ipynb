{
  "cells": [
    {
      "cell_type": "markdown",
      "metadata": {
        "id": "view-in-github",
        "colab_type": "text"
      },
      "source": [
        "<a href=\"https://colab.research.google.com/github/wwucla/gpt1/blob/main/gpt1.ipynb\" target=\"_parent\"><img src=\"https://colab.research.google.com/assets/colab-badge.svg\" alt=\"Open In Colab\"/></a>"
      ]
    },
    {
      "cell_type": "markdown",
      "source": [
        "# Intro\n",
        "This colab is largely inherent from [Andrej Karpathy's colab](https://colab.research.google.com/drive/1JMLa53HDuA-i7ZBmqV7ZnA3c_fvtXnx-?usp=sharing#scrollTo=wJpXpmjEYC_T).\n",
        "\n",
        "Instead of having dev/test code in Colab and build prod code in Python binary (to run on a GPU server), I am putting all code in Colab due to lack of a workstation with GPU."
      ],
      "metadata": {
        "id": "tFhcXJfe0Btc"
      }
    },
    {
      "cell_type": "markdown",
      "source": [
        "# Code Setup (Import, Configs, Dataset download)"
      ],
      "metadata": {
        "id": "J7MpeHqYvJgS"
      }
    },
    {
      "cell_type": "code",
      "source": [
        "# @title Imports\n",
        "\n",
        "!pip install tiktoken\n",
        "import tiktoken\n",
        "import torch\n",
        "import torch.nn as nn\n",
        "from torch.nn import functional as F\n",
        "from enum import Enum\n",
        "\n",
        "class LoggingLevel(Enum):\n",
        "    NO_LOGGING = 1 # No logging unless code failed\n",
        "    CONCISE = 2 # Logging critical information such as training/validation metrics\n",
        "    VERBOSE = 3 # Logging debugging information\n"
      ],
      "metadata": {
        "colab": {
          "base_uri": "https://localhost:8080/"
        },
        "id": "KAa0Ggn4Bqvi",
        "outputId": "66528075-1c03-4a3d-813b-8847de1d3f5e"
      },
      "execution_count": 1,
      "outputs": [
        {
          "output_type": "stream",
          "name": "stdout",
          "text": [
            "Collecting tiktoken\n",
            "  Downloading tiktoken-0.8.0-cp310-cp310-manylinux_2_17_x86_64.manylinux2014_x86_64.whl.metadata (6.6 kB)\n",
            "Requirement already satisfied: regex>=2022.1.18 in /usr/local/lib/python3.10/dist-packages (from tiktoken) (2024.9.11)\n",
            "Requirement already satisfied: requests>=2.26.0 in /usr/local/lib/python3.10/dist-packages (from tiktoken) (2.32.3)\n",
            "Requirement already satisfied: charset-normalizer<4,>=2 in /usr/local/lib/python3.10/dist-packages (from requests>=2.26.0->tiktoken) (3.4.0)\n",
            "Requirement already satisfied: idna<4,>=2.5 in /usr/local/lib/python3.10/dist-packages (from requests>=2.26.0->tiktoken) (3.10)\n",
            "Requirement already satisfied: urllib3<3,>=1.21.1 in /usr/local/lib/python3.10/dist-packages (from requests>=2.26.0->tiktoken) (2.2.3)\n",
            "Requirement already satisfied: certifi>=2017.4.17 in /usr/local/lib/python3.10/dist-packages (from requests>=2.26.0->tiktoken) (2024.8.30)\n",
            "Downloading tiktoken-0.8.0-cp310-cp310-manylinux_2_17_x86_64.manylinux2014_x86_64.whl (1.2 MB)\n",
            "\u001b[?25l   \u001b[90m━━━━━━━━━━━━━━━━━━━━━━━━━━━━━━━━━━━━━━━━\u001b[0m \u001b[32m0.0/1.2 MB\u001b[0m \u001b[31m?\u001b[0m eta \u001b[36m-:--:--\u001b[0m\r\u001b[2K   \u001b[90m━━━━━━━━━━━━━━━━━━━━━━━━━━━━━━━━━━━━━━━━\u001b[0m \u001b[32m1.2/1.2 MB\u001b[0m \u001b[31m45.6 MB/s\u001b[0m eta \u001b[36m0:00:00\u001b[0m\n",
            "\u001b[?25hInstalling collected packages: tiktoken\n",
            "Successfully installed tiktoken-0.8.0\n"
          ]
        }
      ]
    },
    {
      "cell_type": "code",
      "source": [
        "# @title Global Configs And Hparams\n",
        "batch_size = 64\n",
        "block_size = 256 # max context length for prediction\n",
        "n_embd = 384\n",
        "n_layer = 6\n",
        "n_head = 6\n",
        "dropout = 0.2\n",
        "max_iters = 5000 # debugging only, update to 3000 to reproduce Karpathy's version\n",
        "eval_interval = 500\n",
        "learning_rate = 3e-4\n",
        "device = 'cuda' if torch.cuda.is_available() else 'cpu' # unused at this moment\n",
        "eval_iters = 200\n",
        "\n",
        "torch.manual_seed(1337)\n",
        "logging_level = LoggingLevel.VERBOSE\n",
        "\n",
        "def print_verbose(*argv):\n",
        "  if(logging_level == logging_level.VERBOSE):\n",
        "    print(*argv)\n",
        "\n",
        "def print_concise(*argv):\n",
        "  if(logging_level in [logging_level.VERBOSE, logging_level.CONCISE]):\n",
        "    print(*argv)\n",
        "\n",
        "print_concise('device:', device)"
      ],
      "metadata": {
        "colab": {
          "base_uri": "https://localhost:8080/"
        },
        "id": "CM8_ru1SqEI-",
        "outputId": "64dd2145-2edb-4d83-fe9f-023ac578bb95"
      },
      "execution_count": 17,
      "outputs": [
        {
          "output_type": "stream",
          "name": "stdout",
          "text": [
            "device: cuda\n"
          ]
        }
      ]
    },
    {
      "cell_type": "code",
      "execution_count": 3,
      "metadata": {
        "colab": {
          "base_uri": "https://localhost:8080/"
        },
        "id": "3VQqVi-3ScBC",
        "outputId": "81963bb3-15d3-47f8-aa69-67662fe4f4d7"
      },
      "outputs": [
        {
          "output_type": "stream",
          "name": "stdout",
          "text": [
            "--2024-11-01 07:19:46--  https://raw.githubusercontent.com/karpathy/char-rnn/master/data/tinyshakespeare/input.txt\n",
            "Resolving raw.githubusercontent.com (raw.githubusercontent.com)... 185.199.108.133, 185.199.109.133, 185.199.110.133, ...\n",
            "Connecting to raw.githubusercontent.com (raw.githubusercontent.com)|185.199.108.133|:443... connected.\n",
            "HTTP request sent, awaiting response... 200 OK\n",
            "Length: 1115394 (1.1M) [text/plain]\n",
            "Saving to: ‘input.txt’\n",
            "\n",
            "input.txt           100%[===================>]   1.06M  --.-KB/s    in 0.01s   \n",
            "\n",
            "2024-11-01 07:19:46 (107 MB/s) - ‘input.txt’ saved [1115394/1115394]\n",
            "\n"
          ]
        }
      ],
      "source": [
        "# @title Download and read Dataset into `text`\n",
        "!wget https://raw.githubusercontent.com/karpathy/char-rnn/master/data/tinyshakespeare/input.txt\n",
        "# read it in to inspect it\n",
        "with open('input.txt', 'r', encoding='utf-8') as f:\n",
        "    text = f.read()"
      ]
    },
    {
      "cell_type": "markdown",
      "source": [
        "# \"Tokenization\" and Model training"
      ],
      "metadata": {
        "id": "bFgfPe19vS2z"
      }
    },
    {
      "cell_type": "code",
      "source": [
        "# All unique chars\n",
        "chars = sorted(list(set(text)))\n",
        "vocab_size = len(chars)\n",
        "\n",
        "# Create \"tokenizer\" (unique chars), mapping unique chars to integers\n",
        "stoi = {ch : i for i, ch in enumerate(chars)}\n",
        "itos = {i : ch for i, ch in enumerate(chars)}\n",
        "encode = lambda s: [stoi[c] for c in s]  # encoder: take a string, output a list of integers\n",
        "decode = lambda l: ''.join([itos[i] for i in l]) # decoder: take a list of integers, output a string\n",
        "\n",
        "data = torch.tensor(encode(text), dtype = torch.long)\n",
        "n = int(0.9 * len(data)) # first 90% for train, rest 10% for val\n",
        "train_data = data[:n]\n",
        "val_data = data[n:]"
      ],
      "metadata": {
        "id": "h3t1Wv24_rO-"
      },
      "execution_count": 4,
      "outputs": []
    },
    {
      "cell_type": "code",
      "source": [
        "from math import sqrt\n",
        "from re import VERBOSE\n",
        "# @title Training loops (in batches）\n",
        "\n",
        "def get_batch(split):\n",
        "  # generate a small batch of data of inputs x and targets y\n",
        "  data = train_data if split== 'train' else val_data\n",
        "  ix = torch.randint(len(data) - block_size, (batch_size,))\n",
        "  x = torch.stack([data[i:i+block_size] for i in ix])\n",
        "  y = torch.stack([data[i+1:i+block_size+1] for i in ix])\n",
        "  x, y = x.to(device), y.to(device)\n",
        "  return x, y\n",
        "\n",
        "\n",
        "@torch.no_grad()\n",
        "def estimate_loss(model):\n",
        "  \"\"\"\n",
        "  Estimate train and val losses and train model for one iteration\n",
        "  \"\"\"\n",
        "  out = {}\n",
        "  model.eval()\n",
        "  for split in ['train', 'val']:\n",
        "    losses = torch.zeros(eval_iters)\n",
        "    for k in range(eval_iters):\n",
        "      X, Y = get_batch(split) # (B, T), (B, T)\n",
        "      logits, loss = model(X, Y) # (B*T, C), 1\n",
        "      losses[k] = loss.item()\n",
        "    out[split] = losses.mean()\n",
        "  model.train()\n",
        "  return out\n",
        "\n",
        "\n",
        "class AttentionHead(nn.Module):\n",
        "  \"\"\"Single head attention\"\"\"\n",
        "\n",
        "  def __init__(self, head_size):\n",
        "    super().__init__()\n",
        "    self.query = nn.Linear(n_embd, head_size, bias = False)\n",
        "    self.key = nn.Linear(n_embd, head_size, bias = False)\n",
        "    self.value = nn.Linear(n_embd, head_size, bias = False)\n",
        "    self.register_buffer('tril', torch.tril(torch.ones(block_size, block_size)))\n",
        "\n",
        "    self.dropout = nn.Dropout(dropout)\n",
        "\n",
        "  def forward(self, x):\n",
        "    B,T,H = x.shape\n",
        "    k = self.key(x) # (B, T, H)\n",
        "    q = self.query(x) # (B, T, H)\n",
        "    v = self.value(x) # (B, T, H)\n",
        "    att_score = q @ k.transpose(-2, -1) # (B, T, H) @ (B, H, T) --> (B, T, T)\n",
        "\n",
        "    att_score = att_score.masked_fill(self.tril[:T, :T]==0, float('-inf')) # (B, T, T)\n",
        "    att_score = F.softmax(att_score / sqrt(H), dim = -1)\n",
        "    att_score = self.dropout(att_score)\n",
        "    out = att_score @ v # (B, T, T) @ (B, T, H) --> (B, T, H)\n",
        "    return out\n",
        "\n",
        "\n",
        "class MultiHeadAttention(nn.Module):\n",
        "\n",
        "  def __init__(self, n_head, head_size):\n",
        "    super().__init__()\n",
        "    self.heads = nn.ModuleList([AttentionHead(head_size) for _ in range(n_head)])\n",
        "    self.proj = nn.Linear(n_embd, n_embd)\n",
        "    self.dropout = nn.Dropout(dropout)\n",
        "\n",
        "  def forward(self, x):\n",
        "    x = torch.cat([h(x) for h in self.heads], dim=-1)\n",
        "    out = self.proj(x)\n",
        "    return self.dropout(out)\n",
        "\n",
        "\n",
        "class FeedForward(nn.Module):\n",
        "  \"\"\"Linear layer followed by ReLU \"\"\"\n",
        "\n",
        "  def __init__(self, n_embd):\n",
        "    super().__init__()\n",
        "    self.net = nn.Sequential(\n",
        "        nn.Linear(n_embd,4 * n_embd),\n",
        "        nn.ReLU(),\n",
        "        nn.Linear(4 * n_embd, n_embd),\n",
        "        nn.Dropout(dropout),\n",
        "    )\n",
        "\n",
        "  def forward(self, x):\n",
        "    return self.net(x)\n",
        "\n",
        "\n",
        "class DecoderBlock(nn.Module):\n",
        "\n",
        "  def __init__(self, n_embd, n_head):\n",
        "    super().__init__()\n",
        "    head_size = n_embd // n_head\n",
        "    self.sa = MultiHeadAttention(n_head, head_size)\n",
        "    self.ff = FeedForward(n_embd)\n",
        "    self.ln1 = nn.LayerNorm(n_embd)\n",
        "    self.ln2 = nn.LayerNorm(n_embd)\n",
        "\n",
        "  def forward(self, x):\n",
        "    x = x + self.sa(self.ln1(x))\n",
        "    x = x + self.ff(self.ln2(x))\n",
        "    return x\n",
        "\n",
        "\n",
        "# Bigram language model\n",
        "class BigramLanguageModel(nn.Module):\n",
        "\n",
        "  def __init__(self):\n",
        "    super().__init__()\n",
        "    # each token directly reads off the logits for the next token from a lookup table\n",
        "    self.token_embedding_table = nn.Embedding(vocab_size, n_embd)\n",
        "    self.position_embedding_table = nn.Embedding(block_size, n_embd) # learnable position encoding\n",
        "    # n_head = 4\n",
        "    # self.sa = AttentionHead(head_size = n_embd)\n",
        "    # self.mha = MultiHeadAttention(n_head, n_embd//n_head)\n",
        "    # self.ff = FeedForward(n_embd)\n",
        "    # self.decoders = nn.Sequential(\n",
        "    #     DecoderBlock(n_embd, n_head=4),\n",
        "    #     DecoderBlock(n_embd, n_head=4),\n",
        "    #     DecoderBlock(n_embd, n_head=4),\n",
        "    #     nn.LayerNorm(n_embd),\n",
        "    # )\n",
        "    self.decoders = nn.Sequential(*[DecoderBlock(n_embd, n_head) for _ in range(n_layer)])\n",
        "    self.ln_f = nn.LayerNorm(n_embd)\n",
        "    self.lm_head = nn.Linear(n_embd, vocab_size)\n",
        "\n",
        "  def forward(self, idx, targets=None):\n",
        "    \"\"\"\n",
        "    Forward pass of the model.\n",
        "    Input: idx - B, T\n",
        "    Input (optional): targets - B, T\n",
        "    Returns:\n",
        "      logits - B, T, C (batch, time, channels)\n",
        "      loss - scalar\n",
        "    \"\"\"\n",
        "    # idx and targets are both (B,T) tensor of targets\n",
        "    B, T = idx.shape\n",
        "\n",
        "    tok_emb = self.token_embedding_table(idx) # (B, T, C)\n",
        "    pos_emb = self.position_embedding_table(torch.arange(T, device=device)) # (T, C)\n",
        "    x = tok_emb + pos_emb # (B, T, C)\n",
        "\n",
        "    # x = self.sa(x) # (B, T, C)\n",
        "    # x = self.mha(x) # (B, T, C)\n",
        "    # x = self.ff(x) # (B, T, C)\n",
        "    x = self.decoders(x)\n",
        "\n",
        "    logits = self.lm_head(x) # (B, T, vocab_size)\n",
        "\n",
        "    # cross_entropy expects input shape to be (N,C), and target shape to be (N)\n",
        "    if targets is None:\n",
        "      loss = None\n",
        "    else:\n",
        "      B, T, C = logits.shape\n",
        "      loss = F.cross_entropy(logits.view(B*T, C), targets.view(B*T)) # reduced to scalar\n",
        "\n",
        "    return logits, loss\n",
        "\n",
        "  def generate(self, idx, max_new_tokens):\n",
        "    # idx is (B, T) array of indices in the current context\n",
        "    for _ in range(max_new_tokens):\n",
        "      # crop idx to the last block_size tokens (like a sliding window)\n",
        "      idx_cond = idx[:, -block_size:]\n",
        "      # get predicted logits\n",
        "      logits, _ = self(idx_cond) # (B, T, C)\n",
        "      # get the logits of the last timestamp\n",
        "      logits = logits[:, -1, :] # (B, C)\n",
        "      # applys softmax to get prob\n",
        "      prob = F.softmax(logits, dim=-1) # (B, C)\n",
        "      # sample from the distribution\n",
        "      idx_next = torch.multinomial(prob, num_samples=1) # (B, 1)\n",
        "      # append sampled idx to the running sequence\n",
        "      idx = torch.cat([idx, idx_next], dim=-1) # (B, T+1)\n",
        "    return idx\n",
        "\n",
        "\n",
        "model = BigramLanguageModel()\n",
        "m = model.to(device)\n",
        "\n",
        "# create a PyTorch optimizer\n",
        "optimizer = torch.optim.AdamW(m.parameters(), lr=1e-3)\n",
        "\n",
        "for iter in range(max_iters):\n",
        "\n",
        "  # every once in a while, evaluate the loss on train and val sets\n",
        "  if iter % eval_interval == 0:\n",
        "    losses = estimate_loss(m)\n",
        "    print(f\"step {iter}: train loss {losses['train']:.4f}, val loss {losses['val']:.4f}\")\n",
        "\n",
        "  # sample a batch of data\n",
        "  xb, yb = get_batch('train')\n",
        "\n",
        "  # evaluate the loss\n",
        "  optimizer.zero_grad(set_to_none=True)\n",
        "  logits, loss = model(xb, yb)\n",
        "  loss.backward()\n",
        "  optimizer.step()\n",
        "\n",
        "# generate from the model\n",
        "context = torch.zeros((1, 1), dtype=torch.long, device=device)\n",
        "print(decode(m.generate(context, max_new_tokens=500)[0].tolist()))"
      ],
      "metadata": {
        "colab": {
          "base_uri": "https://localhost:8080/"
        },
        "id": "p3AQC-yna2TM",
        "outputId": "64bc2161-f330-4d01-c856-00301ebda99f"
      },
      "execution_count": 16,
      "outputs": [
        {
          "output_type": "stream",
          "name": "stdout",
          "text": [
            "step 0: train loss 4.5945, val loss 4.5843\n",
            "step 500: train loss 1.7777, val loss 1.9304\n",
            "step 1000: train loss 1.4576, val loss 1.6745\n",
            "step 1500: train loss 1.3231, val loss 1.5745\n",
            "step 2000: train loss 1.2399, val loss 1.5276\n",
            "step 2500: train loss 1.1800, val loss 1.5212\n",
            "step 3000: train loss 1.1199, val loss 1.5220\n",
            "step 3500: train loss 1.0633, val loss 1.5195\n",
            "step 4000: train loss 1.0078, val loss 1.5434\n",
            "step 4500: train loss 0.9479, val loss 1.5714\n",
            "\n",
            "Your worships to havine seen thing:\n",
            "Your kinsman, why should he did fol them.\n",
            "\n",
            "BRUTUS:\n",
            "Take how then virtue look upon this infingerty means\n",
            "Be venued my salverity, and am I\n",
            "Willing willingly. Go: I hear, old tempert in\n",
            "Aime: for my soul's burnt your own way,\n",
            "Send love and your feitherward is sufficient.\n",
            "\n",
            "First Senator:\n",
            "Welcome.\n",
            "\n",
            "MENENIUS:\n",
            "This is a kind age,\n",
            "To unan men have look'd on's back'd with Caius Volscians' delives?\n",
            "\n",
            "Second Servingman:\n",
            "We had rather same their powers:\n",
            "Strike like us func\n"
          ]
        }
      ]
    },
    {
      "cell_type": "code",
      "source": [
        "# @title train for more iterations (don't run on large network, too slow)\n",
        "# for iter in range(10000):\n",
        "\n",
        "#   # every once in a while, evaluate the loss on train and val sets\n",
        "#   if iter % eval_interval == 0:\n",
        "#     losses = estimate_loss(m)\n",
        "#     print(f\"step {iter}: train loss {losses['train']:.4f}, val loss {losses['val']:.4f}\")\n",
        "\n",
        "#   # sample a batch of data\n",
        "#   xb, yb = get_batch('train')\n",
        "\n",
        "#   # evaluate the loss\n",
        "#   optimizer.zero_grad(set_to_none=True)\n",
        "#   logits, loss = model(xb, yb)\n",
        "#   loss.backward()\n",
        "#   optimizer.step()\n",
        "\n",
        "# generate from the model\n",
        "context = torch.zeros((1, 1), dtype=torch.long, device=device)\n",
        "print(decode(m.generate(context, max_new_tokens=500)[0].tolist()))"
      ],
      "metadata": {
        "colab": {
          "base_uri": "https://localhost:8080/"
        },
        "id": "8zNkbra5oJ4G",
        "outputId": "1346be79-1258-46c7-dac0-96e05919fa80"
      },
      "execution_count": 45,
      "outputs": [
        {
          "output_type": "stream",
          "name": "stdout",
          "text": [
            "step 0: train loss 2.2571, val loss 2.2846\n",
            "step 500: train loss 2.2584, val loss 2.2648\n",
            "step 1000: train loss 2.2318, val loss 2.2642\n",
            "step 1500: train loss 2.2387, val loss 2.2619\n",
            "step 2000: train loss 2.2186, val loss 2.2422\n",
            "step 2500: train loss 2.2152, val loss 2.2525\n",
            "step 3000: train loss 2.2088, val loss 2.2236\n",
            "step 3500: train loss 2.2133, val loss 2.2317\n",
            "step 4000: train loss 2.1962, val loss 2.2380\n",
            "step 4500: train loss 2.1978, val loss 2.2349\n",
            "step 5000: train loss 2.1936, val loss 2.2457\n",
            "step 5500: train loss 2.1898, val loss 2.2195\n",
            "step 6000: train loss 2.2012, val loss 2.2250\n",
            "step 6500: train loss 2.1954, val loss 2.2216\n",
            "step 7000: train loss 2.1854, val loss 2.2184\n",
            "step 7500: train loss 2.1675, val loss 2.2101\n",
            "step 8000: train loss 2.1725, val loss 2.2153\n",
            "step 8500: train loss 2.1605, val loss 2.2154\n",
            "step 9000: train loss 2.1605, val loss 2.2160\n",
            "step 9500: train loss 2.1617, val loss 2.2115\n",
            "\n",
            "Kink;\n",
            "Ted ppalent licill your hinoth.\n",
            "\n",
            "RINGNETROD:\n",
            "THod bereey userle ambeged onoty?\n",
            "\n",
            "QUEEEN wle?\n",
            "RING ROMINGR:\n",
            "A\n",
            "OMINCET:\n",
            "Hecen,\n",
            "Do ecias theer bit dise sirgers pren,\n",
            "\n",
            "Will he moonowd prond steart her but yourth and his tim that buch oum yourgese sarce dvis st codiolif I thy thich\n",
            "IMEV:\n",
            "And post brethod por weorn the thinmademen pes vit lan Xoppen goe.\n",
            "\n",
            "Firet my ashat banon, I norl sor giceenty grarsters\n",
            "foneed fielam?\n",
            "Tith crig that:\n",
            "And men be!\n",
            "\n",
            "PONTAD't\n",
            "BUS:\n",
            "Ed with youl Rend a dest we se we\n"
          ]
        }
      ]
    },
    {
      "cell_type": "code",
      "source": [
        "# @title debugging code for self-attention block\n",
        "B, T, C = 4, 8, 32\n",
        "x = torch.randn(B,T,C)\n",
        "\n",
        "head_size = C\n",
        "query = nn.Linear(C, head_size, bias = False)\n",
        "key = nn.Linear(C, head_size, bias = False)\n",
        "value = nn.Linear(C, head_size, bias = False)\n",
        "k = key(x) # (B, T, C)\n",
        "q = query(x) # (B, T, C)\n",
        "v = value(x) # (B, T, C)\n",
        "att_score = q @ k.transpose(-2, -1) # (B, T, C) @ (B, C, T) --> (B, T, T)\n",
        "\n",
        "tril = torch.tril(torch.ones(T, T))\n",
        "att_score = att_score.masked_fill(tril==0, float('-inf'))\n",
        "att_score = F.softmax(att_score / sqrt(block_size), dim = -1)\n",
        "out = att_score @ v # (B, T, T) @ (B, T, C) --> (B, T, C)\n",
        "print(out.shape)\n",
        "\n",
        "# out = F.relu(out)"
      ],
      "metadata": {
        "colab": {
          "base_uri": "https://localhost:8080/"
        },
        "id": "lE8BaIapRDVW",
        "outputId": "fc85e516-0f97-41b1-ac0e-66e7930f76b6"
      },
      "execution_count": 23,
      "outputs": [
        {
          "output_type": "stream",
          "name": "stdout",
          "text": [
            "torch.Size([4, 8, 32])\n"
          ]
        }
      ]
    },
    {
      "cell_type": "code",
      "source": [
        "# @title Debugging code: Enums, Dataset basics, Vocab, \"Tokenizers\"(char vs tiktokenizer), tokenzied data (context vs labels)\n",
        "\n",
        "# Some Enum basics\n",
        "print_verbose(LoggingLevel.CONCISE)\n",
        "print_verbose(LoggingLevel.CONCISE.name)\n",
        "print_verbose(LoggingLevel.CONCISE.value)\n",
        "print_verbose(type(LoggingLevel.CONCISE))\n",
        "print_verbose(repr(LoggingLevel.CONCISE))\n",
        "print_verbose(list(LoggingLevel))\n",
        "\n",
        "print_verbose(\"length of dataset in characters: \", len(text))\n",
        "print_verbose(text[:1000])\n",
        "\n",
        "# all unique characters that occur in this text\n",
        "print_verbose(''.join(chars))\n",
        "print_verbose(vocab_size)\n",
        "\n",
        "# tokenizer and reversed tokenizer\n",
        "print_verbose(encode('Shakespeare!!!'))\n",
        "print_verbose(decode((encode('Shakespeare!!!'))))\n",
        "\n",
        "## test code: using gpt2 tokenizer\n",
        "enc = tiktoken.get_encoding('gpt2')\n",
        "print_verbose(enc.n_vocab)\n",
        "print_verbose(enc.encode('Hii there'))\n",
        "\n",
        "# First 100 \"tokens\"\n",
        "print_verbose(data.shape, data.dtype)\n",
        "print_verbose(data[:100])\n",
        "\n",
        "# Context vs labels in training data\n",
        "block_size = 8\n",
        "train_data[:block_size+1]\n",
        "x = train_data[:block_size]\n",
        "y = train_data[1:block_size+1]\n",
        "for t in range(block_size):\n",
        "  context = x[:t+1]\n",
        "  target = y[t]\n",
        "  print_verbose(f\"when input is {context} the target: {target}\")"
      ],
      "metadata": {
        "id": "Y9IuN4Tu07G0"
      },
      "execution_count": null,
      "outputs": []
    }
  ],
  "metadata": {
    "colab": {
      "provenance": [],
      "gpuType": "T4",
      "include_colab_link": true
    },
    "kernelspec": {
      "display_name": "Python 3",
      "name": "python3"
    },
    "accelerator": "GPU"
  },
  "nbformat": 4,
  "nbformat_minor": 0
}