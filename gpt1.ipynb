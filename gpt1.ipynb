{
  "cells": [
    {
      "cell_type": "markdown",
      "metadata": {
        "id": "view-in-github",
        "colab_type": "text"
      },
      "source": [
        "<a href=\"https://colab.research.google.com/github/wwucla/gpt1/blob/main/gpt1.ipynb\" target=\"_parent\"><img src=\"https://colab.research.google.com/assets/colab-badge.svg\" alt=\"Open In Colab\"/></a>"
      ]
    },
    {
      "cell_type": "markdown",
      "source": [
        "# Intro\n",
        "This colab is largely inherent from [Andrej Karpathy's colab](https://colab.research.google.com/drive/1JMLa53HDuA-i7ZBmqV7ZnA3c_fvtXnx-?usp=sharing#scrollTo=wJpXpmjEYC_T).\n",
        "\n",
        "Instead of having dev/test code in Colab and build prod code in Python binary (to run on a GPU server), I am putting all code in Colab due to lack of a workstation with GPU."
      ],
      "metadata": {
        "id": "tFhcXJfe0Btc"
      }
    },
    {
      "cell_type": "markdown",
      "source": [
        "# Code Setup (Import, Configs, Dataset download)"
      ],
      "metadata": {
        "id": "J7MpeHqYvJgS"
      }
    },
    {
      "cell_type": "code",
      "source": [
        "# @title Imports\n",
        "\n",
        "!pip install tiktoken\n",
        "import tiktoken\n",
        "import torch\n",
        "import torch.nn as nn\n",
        "from torch.nn import functional as F\n",
        "from enum import Enum\n",
        "\n",
        "class LoggingLevel(Enum):\n",
        "    NO_LOGGING = 1 # No logging unless code failed\n",
        "    CONCISE = 2 # Logging critical information such as training/validation metrics\n",
        "    VERBOSE = 3 # Logging debugging information\n"
      ],
      "metadata": {
        "colab": {
          "base_uri": "https://localhost:8080/"
        },
        "id": "KAa0Ggn4Bqvi",
        "outputId": "23c7fc60-ef4f-4c48-c709-f37ce2299eb0"
      },
      "execution_count": 1,
      "outputs": [
        {
          "output_type": "stream",
          "name": "stdout",
          "text": [
            "Collecting tiktoken\n",
            "  Downloading tiktoken-0.8.0-cp310-cp310-manylinux_2_17_x86_64.manylinux2014_x86_64.whl.metadata (6.6 kB)\n",
            "Requirement already satisfied: regex>=2022.1.18 in /usr/local/lib/python3.10/dist-packages (from tiktoken) (2024.9.11)\n",
            "Requirement already satisfied: requests>=2.26.0 in /usr/local/lib/python3.10/dist-packages (from tiktoken) (2.32.3)\n",
            "Requirement already satisfied: charset-normalizer<4,>=2 in /usr/local/lib/python3.10/dist-packages (from requests>=2.26.0->tiktoken) (3.4.0)\n",
            "Requirement already satisfied: idna<4,>=2.5 in /usr/local/lib/python3.10/dist-packages (from requests>=2.26.0->tiktoken) (3.10)\n",
            "Requirement already satisfied: urllib3<3,>=1.21.1 in /usr/local/lib/python3.10/dist-packages (from requests>=2.26.0->tiktoken) (2.2.3)\n",
            "Requirement already satisfied: certifi>=2017.4.17 in /usr/local/lib/python3.10/dist-packages (from requests>=2.26.0->tiktoken) (2024.8.30)\n",
            "Downloading tiktoken-0.8.0-cp310-cp310-manylinux_2_17_x86_64.manylinux2014_x86_64.whl (1.2 MB)\n",
            "\u001b[2K   \u001b[90m━━━━━━━━━━━━━━━━━━━━━━━━━━━━━━━━━━━━━━━━\u001b[0m \u001b[32m1.2/1.2 MB\u001b[0m \u001b[31m13.3 MB/s\u001b[0m eta \u001b[36m0:00:00\u001b[0m\n",
            "\u001b[?25hInstalling collected packages: tiktoken\n",
            "Successfully installed tiktoken-0.8.0\n"
          ]
        }
      ]
    },
    {
      "cell_type": "code",
      "source": [
        "# @title Global Configs And Hparams\n",
        "batch_size = 4\n",
        "block_size = 8 # max context length for prediction\n",
        "max_iters = 3000 # debugging only, update to 3000 to reproduce Karpathy's version\n",
        "eval_interval = 300\n",
        "learning_rate = 1e-2\n",
        "device = 'cuda' if torch.cuda.is_available() else 'cpu' # unused at this moment\n",
        "eval_iters = 200\n",
        "\n",
        "torch.manual_seed(1337)\n",
        "logging_level = LoggingLevel.VERBOSE\n",
        "\n",
        "def print_verbose(*argv):\n",
        "  if(logging_level == logging_level.VERBOSE):\n",
        "    print(*argv)\n",
        "\n",
        "def print_concise(*argv):\n",
        "  if(logging_level in [logging_level.VERBOSE, logging_level.CONCISE]):\n",
        "    print(*argv)\n"
      ],
      "metadata": {
        "id": "CM8_ru1SqEI-"
      },
      "execution_count": 63,
      "outputs": []
    },
    {
      "cell_type": "code",
      "execution_count": 3,
      "metadata": {
        "colab": {
          "base_uri": "https://localhost:8080/"
        },
        "id": "3VQqVi-3ScBC",
        "outputId": "9a574c35-006c-4048-f9d3-cff3f1f4c35f"
      },
      "outputs": [
        {
          "output_type": "stream",
          "name": "stdout",
          "text": [
            "--2024-10-31 22:07:52--  https://raw.githubusercontent.com/karpathy/char-rnn/master/data/tinyshakespeare/input.txt\n",
            "Resolving raw.githubusercontent.com (raw.githubusercontent.com)... 185.199.109.133, 185.199.108.133, 185.199.111.133, ...\n",
            "Connecting to raw.githubusercontent.com (raw.githubusercontent.com)|185.199.109.133|:443... connected.\n",
            "HTTP request sent, awaiting response... 200 OK\n",
            "Length: 1115394 (1.1M) [text/plain]\n",
            "Saving to: ‘input.txt’\n",
            "\n",
            "input.txt           100%[===================>]   1.06M  --.-KB/s    in 0.06s   \n",
            "\n",
            "2024-10-31 22:07:52 (18.1 MB/s) - ‘input.txt’ saved [1115394/1115394]\n",
            "\n"
          ]
        }
      ],
      "source": [
        "# @title Download and read Dataset into `text`\n",
        "!wget https://raw.githubusercontent.com/karpathy/char-rnn/master/data/tinyshakespeare/input.txt\n",
        "# read it in to inspect it\n",
        "with open('input.txt', 'r', encoding='utf-8') as f:\n",
        "    text = f.read()"
      ]
    },
    {
      "cell_type": "markdown",
      "source": [
        "# \"Tokenization\" and Model training"
      ],
      "metadata": {
        "id": "bFgfPe19vS2z"
      }
    },
    {
      "cell_type": "code",
      "source": [
        "# All unique chars\n",
        "chars = sorted(list(set(text)))\n",
        "vocab_size = len(chars)\n",
        "\n",
        "# Create \"tokenizer\" (unique chars), mapping unique chars to integers\n",
        "stoi = {ch : i for i, ch in enumerate(chars)}\n",
        "itos = {i : ch for i, ch in enumerate(chars)}\n",
        "encode = lambda s: [stoi[c] for c in s]  # encoder: take a string, output a list of integers\n",
        "decode = lambda l: ''.join([itos[i] for i in l]) # decoder: take a list of integers, output a string\n",
        "\n",
        "data = torch.tensor(encode(text), dtype = torch.long)\n",
        "n = int(0.9 * len(data)) # first 90% for train, rest 10% for val\n",
        "train_data = data[:n]\n",
        "val_data = data[n:]"
      ],
      "metadata": {
        "id": "h3t1Wv24_rO-"
      },
      "execution_count": 4,
      "outputs": []
    },
    {
      "cell_type": "code",
      "source": [
        "from re import VERBOSE\n",
        "# @title Training loops (in batches）\n",
        "\n",
        "def get_batch(split):\n",
        "  # generate a small batch of data of inputs x and targets y\n",
        "  data = train_data if split== 'train' else val_data\n",
        "  ix = torch.randint(len(data) - block_size, (batch_size,))\n",
        "  x = torch.stack([data[i:i+block_size] for i in ix])\n",
        "  y = torch.stack([data[i+1:i+block_size+1] for i in ix])\n",
        "  x, y = x.to(device), y.to(device)\n",
        "  return x, y\n",
        "\n",
        "\n",
        "@torch.no_grad()\n",
        "def estimate_loss(model):\n",
        "  \"\"\"\n",
        "  Estimate train and val losses and train model for one iteration\n",
        "  \"\"\"\n",
        "  out = {}\n",
        "  model.eval()\n",
        "  for split in ['train', 'val']:\n",
        "    losses = torch.zeros(eval_iters)\n",
        "    for k in range(eval_iters):\n",
        "      X, Y = get_batch(split) # (B, T), (B, T)\n",
        "      logits, loss = model(X, Y) # (B*T, C), 1\n",
        "      losses[k] = loss.item()\n",
        "    out[split] = losses.mean()\n",
        "  model.train()\n",
        "  return out\n",
        "\n",
        "\n",
        "# Bigram language model\n",
        "class BigramLanguageModel(nn.Module):\n",
        "\n",
        "  def __init__(self, vocab_size):\n",
        "    super().__init__()\n",
        "    # each token directly reads off the logits for the next token from a lookup table\n",
        "    self.token_embedding_table = nn.Embedding(vocab_size, vocab_size)\n",
        "\n",
        "  def forward(self, idx, targets=None):\n",
        "    \"\"\"\n",
        "    Forward pass of the model.\n",
        "    Input: idx - B, T\n",
        "    Input (optional): targets - B, T\n",
        "    Returns:\n",
        "      logits - B, T, C (batch, time, channels)\n",
        "      loss - scalar\n",
        "    \"\"\"\n",
        "    # idx and targets are both (B,T) tensor of targets\n",
        "    logits = self.token_embedding_table(idx) # (B, T, C)\n",
        "    # cross_entropy expexts input shape to be (N,C), and target shape to be (N)\n",
        "    if targets is None:\n",
        "      loss = None\n",
        "    else:\n",
        "      B, T, C = logits.shape\n",
        "      loss = F.cross_entropy(logits.view(B*T, C), targets.view(B*T)) # reduced to scalar\n",
        "\n",
        "    return logits, loss\n",
        "\n",
        "  def generate(self, idx, max_new_tokens):\n",
        "    # idx is (B, T) array of indices in the current context\n",
        "    for _ in range(max_new_tokens):\n",
        "      # get predicted logits\n",
        "      logits, _ = self(idx) # (B, T, C)\n",
        "      # get the logits of the last timestamp\n",
        "      logits = logits[:, -1, :] # (B, C)\n",
        "      # applys softmax to get prob\n",
        "      prob = F.softmax(logits, dim=-1) # (B, C)\n",
        "      # sample from the distribution\n",
        "      idx_next = torch.multinomial(prob, num_samples=1) # (B, 1)\n",
        "      # append sampled idx to the running sequence\n",
        "      idx = torch.cat([idx, idx_next], dim=-1) # (B, T+1)\n",
        "    return idx\n",
        "\n",
        "\n",
        "model = BigramLanguageModel(vocab_size)\n",
        "m = model.to(device)\n",
        "\n",
        "# create a PyTorch optimizer\n",
        "optimizer = torch.optim.AdamW(m.parameters(), lr=1e-3)\n",
        "\n",
        "for iter in range(max_iters):\n",
        "\n",
        "  # every once in a while, evaluate the loss on train and val sets\n",
        "  if iter % eval_interval == 0:\n",
        "    losses = estimate_loss(m)\n",
        "    print(f\"step {iter}: train loss {losses['train']:.4f}, val loss {losses['val']:.4f}\")\n",
        "\n",
        "  # sample a batch of data\n",
        "  xb, yb = get_batch('train')\n",
        "\n",
        "  # evaluate the loss\n",
        "  optimizer.zero_grad(set_to_none=True)\n",
        "  logits, loss = model(xb, yb)\n",
        "  loss.backward()\n",
        "  optimizer.step()\n",
        "\n",
        "# generate from the model\n",
        "context = torch.zeros((1, 1), dtype=torch.long, device=device)\n",
        "print(decode(m.generate(context, max_new_tokens=500)[0].tolist()))"
      ],
      "metadata": {
        "colab": {
          "base_uri": "https://localhost:8080/"
        },
        "id": "p3AQC-yna2TM",
        "outputId": "4ff7ecdf-3193-4e44-b22f-f07ce3e63ff8"
      },
      "execution_count": 70,
      "outputs": [
        {
          "output_type": "stream",
          "name": "stdout",
          "text": [
            "step 0: train loss 4.5775, val loss 4.5764\n",
            "step 300: train loss 4.3537, val loss 4.3620\n",
            "step 600: train loss 4.1556, val loss 4.1595\n",
            "step 900: train loss 3.9995, val loss 3.9646\n",
            "step 1200: train loss 3.8202, val loss 3.8394\n",
            "step 1500: train loss 3.6709, val loss 3.6695\n",
            "step 1800: train loss 3.5300, val loss 3.5627\n",
            "step 2100: train loss 3.4351, val loss 3.4251\n",
            "step 2400: train loss 3.3093, val loss 3.3311\n",
            "step 2700: train loss 3.2238, val loss 3.2158\n",
            "\n",
            "AsGq?GVxEX&\n",
            "UKNAfxsntru;imXnzWWccuei;tULkR:O;yor!'CHOsen.\n",
            "SEOhdorvjoYArc&hy,; he,w' h;k.\n",
            "LIX!wE&STIszdye$Bqc\n",
            "RCd x-hoxtbvyat?d tOa alleiLieCuFq;-kT?$bcot an-bjxv&FcChle w'th -AR:RRvkVPLq;ofNronTssRieweisel&PDg, yye d m,FfrfGWP!f s?y;Sr;\n",
            "sqFIpupu\n",
            "RW?&-pX;.\n",
            "EYcaHyn:s tEofxethJ, g-\n",
            "YBhdyanfvk te?LExI-ivind BlllUY\n",
            "LEyeanttyGcXjN:VPvKGcyeenNop -lar'APDk:Knd mirnd ghIOWfUDibptho lAelndE&X'shItiCLymi-AFl$D:PD:stOVG onwhifZXJThip OzdAEndc;&\n",
            "akLqY;Ste hEHIUWNPtorsehdHsucJ.\n",
            "S,LDu\n",
            "ScGKfKLZXesI:MqZeEd.\n",
            "W' m\n"
          ]
        }
      ]
    },
    {
      "cell_type": "code",
      "source": [
        "# @title Debugging code: variable shapes in model inference\n",
        "\n",
        "# xb: B T C\n",
        "torch.manual_seed(1337)\n",
        "max_new_tokens = 10\n",
        "xb, yb = get_batch('train')\n",
        "m = BigramLanguageModel(vocab_size)\n",
        "logits, loss = m(xb, yb)\n",
        "# print_verbose(logits.shape)\n",
        "# print_verbose(loss)\n",
        "\n",
        "# # generate text\n",
        "# context_idx = torch.zeros((1,1), dtype=torch.long)\n",
        "# generated = m.generate(context_idx, max_new_tokens)[0].tolist()\n",
        "# print_verbose(generated)\n",
        "# print_verbose(decode(generated))\n",
        "\n",
        "# # test context with 2 batches\n",
        "context_idx = torch.zeros((2,1), dtype=torch.long)\n",
        "generated0 = m.generate(context_idx, max_new_tokens)[0].tolist()\n",
        "generated1 = m.generate(context_idx, max_new_tokens)[1].tolist()\n",
        "print_verbose(\"generated text0: \", decode(generated0))\n",
        "print_verbose(\"generated text1: \", decode(generated1))\n",
        "\n",
        "# # Degbugging code: print out context & labels in batches\n",
        "# xb, yb = get_batch('train')\n",
        "# print_verbose('inputs:', xb.shape)\n",
        "# print_verbose(xb)\n",
        "# print_verbose('targets', yb.shape)\n",
        "# print_verbose(yb)\n",
        "# print_verbose('----')\n",
        "\n",
        "# for b in range(batch_size): # batch dim\n",
        "#   for t in range(block_size): # time dim\n",
        "#     context = xb[b, :t+1]\n",
        "#     target = yb[b, t]\n",
        "#     print(f\"when input is {context.tolist()} the target: {target}\")"
      ],
      "metadata": {
        "id": "r3wRqZ5G27lL"
      },
      "execution_count": null,
      "outputs": []
    },
    {
      "cell_type": "code",
      "source": [
        "# @title Debugging code: Enums, Dataset basics, Vocab, \"Tokenizers\"(char vs tiktokenizer), tokenzied data (context vs labels)\n",
        "\n",
        "# Some Enum basics\n",
        "print_verbose(LoggingLevel.CONCISE)\n",
        "print_verbose(LoggingLevel.CONCISE.name)\n",
        "print_verbose(LoggingLevel.CONCISE.value)\n",
        "print_verbose(type(LoggingLevel.CONCISE))\n",
        "print_verbose(repr(LoggingLevel.CONCISE))\n",
        "print_verbose(list(LoggingLevel))\n",
        "\n",
        "print_verbose(\"length of dataset in characters: \", len(text))\n",
        "print_verbose(text[:1000])\n",
        "\n",
        "# all unique characters that occur in this text\n",
        "print_verbose(''.join(chars))\n",
        "print_verbose(vocab_size)\n",
        "\n",
        "# tokenizer and reversed tokenizer\n",
        "print_verbose(encode('Shakespeare!!!'))\n",
        "print_verbose(decode((encode('Shakespeare!!!'))))\n",
        "\n",
        "## test code: using gpt2 tokenizer\n",
        "enc = tiktoken.get_encoding('gpt2')\n",
        "print_verbose(enc.n_vocab)\n",
        "print_verbose(enc.encode('Hii there'))\n",
        "\n",
        "# First 100 \"tokens\"\n",
        "print_verbose(data.shape, data.dtype)\n",
        "print_verbose(data[:100])\n",
        "\n",
        "# Context vs labels in training data\n",
        "block_size = 8\n",
        "train_data[:block_size+1]\n",
        "x = train_data[:block_size]\n",
        "y = train_data[1:block_size+1]\n",
        "for t in range(block_size):\n",
        "  context = x[:t+1]\n",
        "  target = y[t]\n",
        "  print_verbose(f\"when input is {context} the target: {target}\")"
      ],
      "metadata": {
        "colab": {
          "base_uri": "https://localhost:8080/"
        },
        "id": "Y9IuN4Tu07G0",
        "outputId": "c3c77bb5-f53a-4452-eafa-fb330b0aa87d"
      },
      "execution_count": 23,
      "outputs": [
        {
          "output_type": "stream",
          "name": "stdout",
          "text": [
            "LoggingLevel.CONCISE\n",
            "CONCISE\n",
            "2\n",
            "<enum 'LoggingLevel'>\n",
            "<LoggingLevel.CONCISE: 2>\n",
            "[<LoggingLevel.NO_LOGGING: 1>, <LoggingLevel.CONCISE: 2>, <LoggingLevel.VERBOSE: 3>]\n",
            "length of dataset in characters:  1115394\n",
            "First Citizen:\n",
            "Before we proceed any further, hear me speak.\n",
            "\n",
            "All:\n",
            "Speak, speak.\n",
            "\n",
            "First Citizen:\n",
            "You are all resolved rather to die than to famish?\n",
            "\n",
            "All:\n",
            "Resolved. resolved.\n",
            "\n",
            "First Citizen:\n",
            "First, you know Caius Marcius is chief enemy to the people.\n",
            "\n",
            "All:\n",
            "We know't, we know't.\n",
            "\n",
            "First Citizen:\n",
            "Let us kill him, and we'll have corn at our own price.\n",
            "Is't a verdict?\n",
            "\n",
            "All:\n",
            "No more talking on't; let it be done: away, away!\n",
            "\n",
            "Second Citizen:\n",
            "One word, good citizens.\n",
            "\n",
            "First Citizen:\n",
            "We are accounted poor citizens, the patricians good.\n",
            "What authority surfeits on would relieve us: if they\n",
            "would yield us but the superfluity, while it were\n",
            "wholesome, we might guess they relieved us humanely;\n",
            "but they think we are too dear: the leanness that\n",
            "afflicts us, the object of our misery, is as an\n",
            "inventory to particularise their abundance; our\n",
            "sufferance is a gain to them Let us revenge this with\n",
            "our pikes, ere we become rakes: for the gods know I\n",
            "speak this in hunger for bread, not in thirst for revenge.\n",
            "\n",
            "\n",
            "\n",
            " !$&',-.3:;?ABCDEFGHIJKLMNOPQRSTUVWXYZabcdefghijklmnopqrstuvwxyz\n",
            "65\n",
            "[31, 46, 39, 49, 43, 57, 54, 43, 39, 56, 43, 2, 2, 2]\n",
            "Shakespeare!!!\n",
            "50257\n",
            "[39, 4178, 612]\n",
            "torch.Size([1115394]) torch.int64\n",
            "tensor([18, 47, 56, 57, 58,  1, 15, 47, 58, 47, 64, 43, 52, 10,  0, 14, 43, 44,\n",
            "        53, 56, 43,  1, 61, 43,  1, 54, 56, 53, 41, 43, 43, 42,  1, 39, 52, 63,\n",
            "         1, 44, 59, 56, 58, 46, 43, 56,  6,  1, 46, 43, 39, 56,  1, 51, 43,  1,\n",
            "        57, 54, 43, 39, 49,  8,  0,  0, 13, 50, 50, 10,  0, 31, 54, 43, 39, 49,\n",
            "         6,  1, 57, 54, 43, 39, 49,  8,  0,  0, 18, 47, 56, 57, 58,  1, 15, 47,\n",
            "        58, 47, 64, 43, 52, 10,  0, 37, 53, 59])\n",
            "when input is tensor([18]) the target: 47\n",
            "when input is tensor([18, 47]) the target: 56\n",
            "when input is tensor([18, 47, 56]) the target: 57\n",
            "when input is tensor([18, 47, 56, 57]) the target: 58\n",
            "when input is tensor([18, 47, 56, 57, 58]) the target: 1\n",
            "when input is tensor([18, 47, 56, 57, 58,  1]) the target: 15\n",
            "when input is tensor([18, 47, 56, 57, 58,  1, 15]) the target: 47\n",
            "when input is tensor([18, 47, 56, 57, 58,  1, 15, 47]) the target: 58\n"
          ]
        }
      ]
    }
  ],
  "metadata": {
    "colab": {
      "provenance": [],
      "include_colab_link": true
    },
    "kernelspec": {
      "display_name": "Python 3",
      "name": "python3"
    }
  },
  "nbformat": 4,
  "nbformat_minor": 0
}